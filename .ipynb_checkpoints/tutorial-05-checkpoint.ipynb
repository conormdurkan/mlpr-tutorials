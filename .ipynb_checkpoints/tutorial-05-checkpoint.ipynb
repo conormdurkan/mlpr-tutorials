{
 "cells": [
  {
   "cell_type": "code",
   "execution_count": 1,
   "metadata": {},
   "outputs": [],
   "source": [
    "import numpy as np\n",
    "\n",
    "from ipywidgets import interact\n",
    "from matplotlib import pyplot as plt\n",
    "\n",
    "%matplotlib inline"
   ]
  },
  {
   "cell_type": "markdown",
   "metadata": {},
   "source": [
    "# Q1"
   ]
  },
  {
   "cell_type": "code",
   "execution_count": 2,
   "metadata": {},
   "outputs": [],
   "source": [
    "def multivariate_gaussian_pdf(x, mu, det_Sigma, Sigma_inv, d=2):\n",
    "    constant = 1 / ((2 * np.pi)**(d / 2) * det_Sigma**0.5)\n",
    "    return constant * np.exp(-0.5 * (x - mu).T @ Sigma_inv @ (x - mu))"
   ]
  },
  {
   "cell_type": "code",
   "execution_count": 5,
   "metadata": {},
   "outputs": [
    {
     "data": {
      "application/vnd.jupyter.widget-view+json": {
       "model_id": "cfc089c3dcf54460b7d16f046ecae63b",
       "version_major": 2,
       "version_minor": 0
      },
      "text/plain": [
       "interactive(children=(FloatSlider(value=-2.5, description='test_x_1', max=2.0, min=-5.0, step=0.01), FloatSlid…"
      ]
     },
     "metadata": {},
     "output_type": "display_data"
    }
   ],
   "source": [
    "# generated synthetic data from three distinct Gaussian distributions\n",
    "# true (unknown) means\n",
    "mu_1_true = np.array([-4, 2])\n",
    "mu_2_true = np.array([-1, 1])\n",
    "mu_3_true = np.array([-4, 0])\n",
    "mu_4_true = np.array([-2.5, 1.1])\n",
    "\n",
    "# true (unknown) covariances\n",
    "Sigma_1_true = 0.1 * np.eye(2)\n",
    "Sigma_2_true = 0.2 * np.eye(2)\n",
    "s = 0.8\n",
    "Sigma_3_true = 0.1 * np.array([[1, s], [s, 1]])\n",
    "Sigma_4_true = 3 * np.eye(2)\n",
    "\n",
    "# varying number of data points per class\n",
    "n1 = 500\n",
    "n2 = 1000\n",
    "n3 = 250\n",
    "n4 = 750\n",
    "\n",
    "# generate data\n",
    "x_1 = np.random.multivariate_normal(mu_1_true, Sigma_1_true, size=n1)\n",
    "x_2 = np.random.multivariate_normal(mu_2_true, Sigma_2_true, size=n2)\n",
    "x_3 = np.random.multivariate_normal(mu_3_true, Sigma_3_true, size=n3)\n",
    "x_4 = np.random.multivariate_normal(mu_4_true, Sigma_4_true, size=n4)\n",
    "\n",
    "# fit class proportions \n",
    "n = n1 + n2 + n3 + n4\n",
    "pi_1 = n1 / n\n",
    "pi_2 = n2 / n\n",
    "pi_3 = n3 / n\n",
    "pi_4 = n4 / n\n",
    "\n",
    "# fit means and variances by maximum likelihood\n",
    "# i.e. calculate the empirical mean and covariance for each class\n",
    "mu_1 = np.mean(x_1, axis=0)\n",
    "mu_2 = np.mean(x_2, axis=0)\n",
    "mu_3 = np.mean(x_3, axis=0)\n",
    "mu_4 = np.mean(x_4, axis=0)\n",
    "\n",
    "Sigma_1 = np.cov(x_1, rowvar=False)\n",
    "Sigma_2 = np.cov(x_2, rowvar=False)\n",
    "Sigma_3 = np.cov(x_3, rowvar=False)\n",
    "Sigma_4 = np.cov(x_4, rowvar=False)\n",
    "\n",
    "# need the inverse and determinant of the covariance before we can use the classifier\n",
    "Sigma_1_inv = np.linalg.inv(Sigma_1)\n",
    "Sigma_2_inv = np.linalg.inv(Sigma_2)\n",
    "Sigma_3_inv = np.linalg.inv(Sigma_3)\n",
    "Sigma_4_inv = np.linalg.inv(Sigma_4)\n",
    "\n",
    "det_Sigma_1 = np.linalg.det(Sigma_1)\n",
    "det_Sigma_2 = np.linalg.det(Sigma_2)\n",
    "det_Sigma_3 = np.linalg.det(Sigma_3)\n",
    "det_Sigma_4 = np.linalg.det(Sigma_4)\n",
    "\n",
    "def plot_classification_behaviour(test_x_1=-2.5, test_x_2=1):\n",
    "    # choose a test point to classify\n",
    "    test_point = np.array([test_x_1, test_x_2])\n",
    "    \n",
    "    # calculate scores for each class\n",
    "    # these are the Gaussian densities for each class multiplied by the class proportions\n",
    "    score_class_1 = multivariate_gaussian_pdf(test_point, mu_1, det_Sigma_1, Sigma_1_inv) * pi_1\n",
    "    score_class_2 = multivariate_gaussian_pdf(test_point, mu_2, det_Sigma_2, Sigma_2_inv) * pi_2\n",
    "    score_class_3 = multivariate_gaussian_pdf(test_point, mu_3, det_Sigma_3, Sigma_3_inv) * pi_3\n",
    "    score_class_4 = multivariate_gaussian_pdf(test_point, mu_4, det_Sigma_4, Sigma_4_inv) * pi_4\n",
    "    \n",
    "    # the normalizer for these scores is just their sum \n",
    "    normalizer = score_class_1 + score_class_2 + score_class_3 + score_class_4\n",
    "    \n",
    "    # probabilities are given by normalizing the scores\n",
    "    prob_class_1 = score_class_1 / normalizer\n",
    "    prob_class_2 = score_class_2 / normalizer\n",
    "    prob_class_3 = score_class_3 / normalizer\n",
    "    prob_class_4 = score_class_4 / normalizer\n",
    "    \n",
    "    # find prediction for test point\n",
    "    probabilities = [prob_class_1, prob_class_2, prob_class_3, prob_class_4]\n",
    "    class_prediction = np.argmax(probabilities)\n",
    "    prediction_probability = probabilities[class_prediction] \n",
    "    \n",
    "    # do some plotting \n",
    "    fig, axs = plt.subplots(1, 2, figsize=(14, 7))\n",
    "    \n",
    "    # plot data and test point\n",
    "    # change colour of data depending on prediction for test point\n",
    "    axs[0].scatter(x_1[:, 0], x_1[:, 1], alpha=0.5, s=4, color='C3' if class_prediction == 0 else'C0', label='Class 1')\n",
    "    axs[0].scatter(x_2[:, 0], x_2[:, 1], alpha=0.5, s=4, color='C3' if class_prediction == 1 else'C1', label='Class 2')\n",
    "    axs[0].scatter(x_3[:, 0], x_3[:, 1], alpha=0.5, s=4, color='C3' if class_prediction == 2 else'C2', label='Class 3')\n",
    "    axs[0].scatter(x_4[:, 0], x_4[:, 1], alpha=0.5, s=4, color='C3' if class_prediction == 3 else'C4', label='Class 4')\n",
    "    axs[0].scatter(test_point[0], test_point[1], s=50, color='black', label='Test Point')\n",
    "    \n",
    "    axs[0].set_xlim([-6, 2])\n",
    "    axs[0].set_ylim([-1.5, 4])\n",
    "    axs[0].legend(fontsize=14, scatterpoints=3)\n",
    "    \n",
    "    # plot bar chart of probabilities assigned to each class\n",
    "    axs[1].bar(range(4), probabilities, width=0.1, color='grey')\n",
    "    axs[1].set_xticks([1, 2, 3, 4])\n",
    "    axs[1].set_ylim([0, 1])\n",
    "    axs[1].set_title(\n",
    "        'Prediction is class {:}, with probability {:.2f}'.format(class_prediction + 1, prediction_probability),\n",
    "        fontsize=16\n",
    "    )\n",
    "\n",
    "    plt.tight_layout()\n",
    "\n",
    "# allow test point to be moved around the plane\n",
    "interact(plot_classification_behaviour, test_x_1=(-5, 2, 0.01), test_x_2=(-1, 3, 0.01));"
   ]
  }
 ],
 "metadata": {
  "kernelspec": {
   "display_name": "Python 3",
   "language": "python",
   "name": "python3"
  },
  "language_info": {
   "codemirror_mode": {
    "name": "ipython",
    "version": 3
   },
   "file_extension": ".py",
   "mimetype": "text/x-python",
   "name": "python",
   "nbconvert_exporter": "python",
   "pygments_lexer": "ipython3",
   "version": "3.6.6"
  }
 },
 "nbformat": 4,
 "nbformat_minor": 2
}
