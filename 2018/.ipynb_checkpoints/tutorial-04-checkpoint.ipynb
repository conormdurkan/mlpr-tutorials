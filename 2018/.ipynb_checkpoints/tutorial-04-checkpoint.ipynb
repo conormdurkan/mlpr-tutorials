{
 "cells": [
  {
   "cell_type": "code",
   "execution_count": 1,
   "metadata": {},
   "outputs": [],
   "source": [
    "import numpy as np"
   ]
  },
  {
   "cell_type": "markdown",
   "metadata": {},
   "source": [
    "# Q1"
   ]
  },
  {
   "cell_type": "code",
   "execution_count": 13,
   "metadata": {},
   "outputs": [
    {
     "name": "stdout",
     "output_type": "stream",
     "text": [
      "Vector is [ 14.11907047  -4.12488105 -23.08844692]\n",
      "Naive calculation is: 14.119070478554773\n",
      "Stable calculation is: 14.119070478554773\n",
      "\n",
      "Vector is [ 141.19070467  -41.24881052 -230.88446925]\n",
      "Naive calculation is: 141.19070466621696\n",
      "Stable calculation is: 141.19070466621696\n",
      "\n",
      "Vector is [ 1411.90704666  -412.48810517 -2308.84469246]\n",
      "Naive calculation is: inf\n",
      "Stable calculation is: 1411.9070466621697\n",
      "\n",
      "Vector is [ 14119.07046662  -4124.88105175 -23088.44692458]\n",
      "Naive calculation is: inf\n",
      "Stable calculation is: 14119.070466621697\n",
      "\n",
      "Vector is [ 141190.70466622  -41248.81051746 -230884.46924581]\n",
      "Naive calculation is: inf\n",
      "Stable calculation is: 141190.70466621697\n",
      "\n",
      "Vector is [ 1411907.04666217  -412488.10517457 -2308844.69245809]\n",
      "Naive calculation is: inf\n",
      "Stable calculation is: 1411907.0466621697\n",
      "\n",
      "Vector is [ 14119070.4666217   -4124881.05174566 -23088446.9245809 ]\n",
      "Naive calculation is: inf\n",
      "Stable calculation is: 14119070.466621697\n",
      "\n",
      "Vector is [ 1.41190705e+08 -4.12488105e+07 -2.30884469e+08]\n",
      "Naive calculation is: inf\n",
      "Stable calculation is: 141190704.66621697\n",
      "\n",
      "Vector is [ 1.41190705e+09 -4.12488105e+08 -2.30884469e+09]\n",
      "Naive calculation is: inf\n",
      "Stable calculation is: 1411907046.6621697\n",
      "\n",
      "Vector is [ 1.41190705e+10 -4.12488105e+09 -2.30884469e+10]\n",
      "Naive calculation is: inf\n",
      "Stable calculation is: 14119070466.621696\n",
      "\n"
     ]
    }
   ],
   "source": [
    "def logsumexp(x):\n",
    "    x_max = max(x)\n",
    "    return x_max + np.log(np.sum(np.exp(x - x_max)))\n",
    "\n",
    "x = np.random.randn(3)\n",
    "for i in range(10):\n",
    "    x *= 10\n",
    "    print('Vector is {:}'.format(x))\n",
    "    naive = np.log(np.sum(np.exp(x)))\n",
    "    print('Naive calculation is: {:}'.format(naive))\n",
    "    stable = logsumexp(x)\n",
    "    print('Stable calculation is: {:}'.format(stable))\n",
    "    print()"
   ]
  }
 ],
 "metadata": {
  "kernelspec": {
   "display_name": "Python 3",
   "language": "python",
   "name": "python3"
  },
  "language_info": {
   "codemirror_mode": {
    "name": "ipython",
    "version": 3
   },
   "file_extension": ".py",
   "mimetype": "text/x-python",
   "name": "python",
   "nbconvert_exporter": "python",
   "pygments_lexer": "ipython3",
   "version": "3.6.9"
  }
 },
 "nbformat": 4,
 "nbformat_minor": 2
}
