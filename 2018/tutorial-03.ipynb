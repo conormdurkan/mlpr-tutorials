{
 "cells": [
  {
   "cell_type": "code",
   "execution_count": 1,
   "metadata": {},
   "outputs": [],
   "source": [
    "import numpy as np\n",
    "\n",
    "from ipywidgets import interact\n",
    "from matplotlib import pyplot as plt\n",
    "from scipy import optimize\n",
    "\n",
    "%matplotlib inline"
   ]
  },
  {
   "cell_type": "markdown",
   "metadata": {},
   "source": [
    "# Q1"
   ]
  },
  {
   "cell_type": "code",
   "execution_count": 2,
   "metadata": {},
   "outputs": [
    {
     "name": "stdout",
     "output_type": "stream",
     "text": [
      "Empirical (maximum likelihood) fit for Class 1:\n",
      "Probability: 0.7143\n",
      "Mean: 0.2600\n",
      "Standard Deviation: 0.1287\n",
      "\n",
      "Empirical (maximum likelihood) fit for Class 2:\n",
      "Probability: 0.2857\n",
      "Mean: 0.8625\n",
      "Standard Deviation: 0.1109\n"
     ]
    },
    {
     "data": {
      "image/png": "[encoded data removed]",
      "text/plain": [
       "<Figure size 720x432 with 1 Axes>"
      ]
     },
     "metadata": {
      "needs_background": "light"
     },
     "output_type": "display_data"
    }
   ],
   "source": [
    "def univariate_gaussian_pdf(x, mu, sigma):\n",
    "    return (1 / (np.sqrt(2 * np.pi * sigma**2))) * np.exp(-0.5 * ((x - mu) / sigma)**2)\n",
    "\n",
    "class_1_data = np.array([0.5, 0.1, 0.2, 0.4, 0.3, 0.2, 0.2, 0.1, 0.35, 0.25])\n",
    "class_2_data = np.array([0.9, 0.8, 0.75, 1.0])\n",
    "\n",
    "n_class_1 = len(class_1_data)\n",
    "n_class_2 = len(class_2_data)\n",
    "n_total_data = n_class_1 + n_class_2\n",
    "\n",
    "prob_class_1 = n_class_1 / n_total_data\n",
    "prob_class_2 = n_class_2 / n_total_data\n",
    "\n",
    "class_1_mean = class_1_data.mean()\n",
    "class_1_std = class_1_data.std(ddof=1)\n",
    "\n",
    "class_2_mean = class_2_data.mean()\n",
    "class_2_std = class_2_data.std(ddof=1)\n",
    "\n",
    "fig, ax = plt.subplots(1, 1, figsize=(10, 6))\n",
    "x = np.linspace(-0.5, 3.5, 1000)\n",
    "\n",
    "ax.plot(x, prob_class_1 * univariate_gaussian_pdf(x, class_1_mean, class_1_std), label='Class 1')\n",
    "ax.scatter(class_1_data, np.zeros_like(class_1_data))\n",
    "\n",
    "ax.plot(x, prob_class_2 * univariate_gaussian_pdf(x, class_2_mean, class_2_std), label='Class 2')\n",
    "ax.scatter(class_2_data, np.zeros_like(class_2_data))\n",
    "\n",
    "ax.legend(fontsize=16)\n",
    "\n",
    "print('Empirical (maximum likelihood) fit for Class 1:')\n",
    "print('Probability: {:.4f}'.format(prob_class_1))\n",
    "print('Mean: {:.4f}'.format(class_1_mean))\n",
    "print('Standard Deviation: {:.4f}'.format(class_1_std))\n",
    "print()\n",
    "print('Empirical (maximum likelihood) fit for Class 2:')\n",
    "print('Probability: {:.4f}'.format(prob_class_2))\n",
    "print('Mean: {:.4f}'.format(class_2_mean))\n",
    "print('Standard Deviation: {:.4f}'.format(class_2_std))"
   ]
  },
  {
   "cell_type": "markdown",
   "metadata": {},
   "source": [
    "# Q3"
   ]
  },
  {
   "cell_type": "code",
   "execution_count": 3,
   "metadata": {},
   "outputs": [
    {
     "data": {
      "application/vnd.jupyter.widget-view+json": {
       "model_id": "51c7c3b2554641e98ceaf6a8d2025c3c",
       "version_major": 2,
       "version_minor": 0
      },
      "text/plain": [
       "interactive(children=(FloatSlider(value=1.0, description='c', max=10.0, min=0.1), Output()), _dom_classes=('wi…"
      ]
     },
     "metadata": {},
     "output_type": "display_data"
    }
   ],
   "source": [
    "def sigmoid(a):\n",
    "    return 1 / (1 + np.exp(-a))\n",
    "\n",
    "def plot_sigmoid(c=1):\n",
    "    x = np.linspace(-5, 5, 100)\n",
    "    y = sigmoid(c * x)\n",
    "    fig, ax = plt.subplots(1, 1, figsize=(10, 6))\n",
    "    ax.plot(x, y)\n",
    "    ax.set_xlabel('$ x $', fontsize=16)\n",
    "    ax.set_ylabel('$ \\sigma(c x) $', fontsize=16)\n",
    "    ax.vlines(0, 0., 1, label='Decision Boundary')\n",
    "    ax.legend(fontsize=16)\n",
    "\n",
    "interact(plot_sigmoid, c=(0.1, 10, 0.1));"
   ]
  }
 ],
 "metadata": {
  "kernelspec": {
   "display_name": "Python 3",
   "language": "python",
   "name": "python3"
  },
  "language_info": {
   "codemirror_mode": {
    "name": "ipython",
    "version": 3
   },
   "file_extension": ".py",
   "mimetype": "text/x-python",
   "name": "python",
   "nbconvert_exporter": "python",
   "pygments_lexer": "ipython3",
   "version": "3.6.6"
  }
 },
 "nbformat": 4,
 "nbformat_minor": 2
}
