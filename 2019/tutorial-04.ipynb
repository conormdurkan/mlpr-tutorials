{
 "cells": [
  {
   "cell_type": "code",
   "execution_count": 1,
   "metadata": {},
   "outputs": [],
   "source": [
    "import numpy as np\n",
    "\n",
    "from ipywidgets import interact\n",
    "from matplotlib import pyplot as plt\n",
    "from scipy import special, stats\n",
    "\n",
    "%matplotlib inline"
   ]
  },
  {
   "cell_type": "markdown",
   "metadata": {},
   "source": [
    "# Q1"
   ]
  },
  {
   "cell_type": "markdown",
   "metadata": {},
   "source": [
    "# Bayesian Inference\n",
    "\n",
    "For data $ \\mathcal{D} $ and parameters $ \\boldsymbol{\\theta} $, Bayes' rule tells us\n",
    "$$ p(\\boldsymbol{\\theta} \\vert \\mathcal{D}) = \\frac{p(\\mathcal{D} \\vert \\boldsymbol{\\theta}) p(\\boldsymbol{\\theta})}{p(\\mathcal{D})} \\propto p(\\mathcal{D} \\vert \\boldsymbol{\\theta}) p(\\boldsymbol{\\theta}). $$\n",
    "\n",
    "- $ p\\boldsymbol{\\theta} \\vert \\mathcal{D}) $ is the **posterior** distribution over $ \\boldsymbol{\\theta} $ given $ \\mathcal{D} $; it characterizes our updated beliefs about $ \\boldsymbol{\\theta} $ after we've observed data $ \\mathcal{D} $.\n",
    "- $ p(\\mathcal{D} \\vert \\boldsymbol{\\theta}) $ is the conditional distribution over $ \\mathcal{D} $ given $ \\boldsymbol{\\theta} $, or alternatively, the **likelihood** of $ \\boldsymbol{\\theta} $ given data $ \\mathcal{D} $ i.e. how well the parameters $ \\boldsymbol{\\theta} $ explain the data. The likelihood is a function of $ \\boldsymbol{\\theta} $, and from this point of view, **the likelihood function is not a probability distribution**. Go back and read this point again.\n",
    "- $ p(\\boldsymbol{\\theta}) $ is the **prior** distribution over $ \\boldsymbol{\\theta} $; it characterizes our beliefs about the parameters before we've made any observations or gathered any data.\n",
    "- $ p(\\mathcal{D}) = \\int p(\\mathcal{D}, \\boldsymbol{\\theta}) \\ \\mathrm{d} \\boldsymbol{\\theta} = \\int p(\\mathcal{D} \\vert \\boldsymbol{\\theta}) p(\\boldsymbol{\\theta}) \\ \\mathrm{d} \\boldsymbol{\\theta} $ is the **evidence** or **marginal likelihood** of the data, or the average value of the likelihood under the prior; it characterizes the probability of seeing data $ \\mathcal{D} $ when we use a particular likelihood and prior i.e. when we use a particular model for the data. For this reason, the marginal likelihood is often used for model comparison.\n",
    "\n",
    "Bayesian inference refers to the broad challenge of computing the posterior distribution for an arbitrary likelihood function and prior distribution. Generally, the product of the likelihood and prior gives rise to a complex, intractable distribution which is difficult to reason about and work with."
   ]
  },
  {
   "cell_type": "markdown",
   "metadata": {},
   "source": [
    "## Conjugate priors\n",
    "The idea of conjugacy in Bayesian inference is an appealing one. We say a particular prior is conjugate to some likelihood if the resulting posterior distribution is in the same family as the prior. Recalling that the posterior is generally a complex, unwieldy distribution for an arbitrary choice of likelihood and prior, conjugacy is indeed a very desirable property, since we can compute the posterior in closed form. \n",
    "\n",
    "## An example of a conjugate prior\n",
    "\n",
    "Imagine someone approaches you and asks whether the coin they're holding is fair. Your accoster, a wise Bayesian, is not interested in a binary decision about its fairness, but wants you to quantify your beliefs over the entire range of its possible fairness. You are allowed to flip the coin as often as you like for the next few minutes.\n",
    "\n",
    "For a moment, we consider just flipping the coin as fast as we can, keeping a running average of the number of heads, and returning that answer when we're out of time. However, if something goes wrong, and the stranger is particularly mischievous, we may only get a few flips before we're forced to stop, and our guess will be heavily influenced by the first few outcomes. Even a fair coin won't justify its fairness in a few flips! With this in mind, remembering the mysterious stranger has no interest in a point estimate, and knowing the value of being Bayesian when expressing our beliefs about events, we decide to tackle this problem with Bayes' rule. This means we need to decide on two things:\n",
    "\n",
    "- What is our prior? \n",
    "- What is our likelihood function? \n",
    "\n",
    "#### The prior distribution\n",
    "There's a natural way to quantify fairness here: our beliefs about the fairness of a coin lie on a continuous scale from 0 to 1. Let's call this random variable, the probability of heads, $ \\theta $. We also know that coins tend to be fair. We're a bit suspicious in this case though, because this isn't an arbitrary coin, it's a challenge from the mysterious stranger. So what properties should our prior have? Well, it should\n",
    "\n",
    "- be a probability distribution over $ [0, 1] $,\n",
    "- be symmetric about $ 0.5 $, since we don't know which way the coin might be biased,\n",
    "- have high density near $ 0.5 $, since we know most coins are fair,\n",
    "- have some moderate variance to account for the fact that we're suspicious of this coin-toting stranger.\n",
    "\n",
    "Fortunately, there exists just such a distribution.\n",
    "\n",
    "The **beta distribution** is a family of continuous probability distributions defined on the interval $ [0, 1] $. It's got two postive parameters $ \\alpha $ and $ \\beta $, and its density function is given by \n",
    "$$ p_{\\alpha, \\beta}(\\theta) = \\frac{\\theta^{\\alpha - 1}(1 - \\theta)^{\\beta - 1}}{B(\\alpha, \\beta)}, \\hspace{0.1cm} \\text{where } B(\\alpha, \\beta) = \\frac{\\Gamma(\\alpha) \\Gamma(\\beta)}{\\Gamma(\\alpha + \\beta)} $$\n",
    "(we don't need to worry so much about $ B(\\alpha, \\beta) $ here, it's just a normalizing constant). \n",
    "\n",
    "The mean, mode, and variance of the beta distribution are given by $ \\frac{\\alpha}{\\alpha + \\beta} $, $ \\frac{\\alpha - 1}{\\alpha + \\beta - 2} $, and $ \\frac{\\alpha \\beta}{(\\alpha + \\beta)^{2} (\\alpha + \\beta + 1)} $, respectively. We'd like to choose $ \\alpha $ and $ \\beta $ such that the distribution is centred and peaked at $ 0.5 $ (i.e. mean and mode at $ 0.5 $), and its variance is moderate. If we set $ \\alpha = \\beta $, the mean and the mode both lie at $ 0.5 $, and we can use a particular value of the variance to derive a corresponding value of $ \\alpha $ (in the following I've used $ \\alpha = \\beta = 5 $). Let's plot this prior density and see what it looks like."
   ]
  },
  {
   "cell_type": "code",
   "execution_count": 2,
   "metadata": {},
   "outputs": [
    {
     "data": {
      "image/png": "[encoded data removed]",
      "text/plain": [
       "<Figure size 576x432 with 1 Axes>"
      ]
     },
     "metadata": {
      "needs_background": "light"
     },
     "output_type": "display_data"
    }
   ],
   "source": [
    "alpha = beta = 5\n",
    "prior = stats.beta(alpha, beta)\n",
    "theta = np.linspace(0, 1, 1000)\n",
    "ptheta = prior.pdf(theta)\n",
    "\n",
    "fig, ax = plt.subplots(1, 1, figsize=(8, 6))\n",
    "ax.plot(theta, ptheta)\n",
    "ax.set_xticks([0, 0.25, 0.5, 0.75, 1])\n",
    "ax.set_xlabel(r'$ \\theta $')\n",
    "ax.set_ylabel(r'$ p(\\theta) $')\n",
    "ax.fill_between(theta, np.zeros_like(theta), ptheta, alpha=0.5);"
   ]
  },
  {
   "cell_type": "markdown",
   "metadata": {},
   "source": [
    "The above plot visualizes our beliefs about the fairness of the coin before we've flipped it. Its characteristics and shape are determined by the pre-existing knowledge we have about the problem before we've gathered any data. That is, the plot visualizes our prior distribution.\n",
    "\n",
    "#### The likelihood function\n",
    "The distribution over a sequence of coin flips also has a natural characterization in the form of the **binomial distribution**. For $ n $ flips, with probability of heads $ \\theta $ on each flip, the probability mass function corresponding to $ k $ heads is \n",
    "$$ p(k \\vert n, \\theta) = \\begin{pmatrix} n \\\\ k \\end{pmatrix} \\theta^{k} (1 - \\theta)^{n - k}. \\tag{1} $$ \n",
    "That is, $ k $ flips must result in heads, the other $ n - k $ flips must result in tails, and the ordering doesn't matter. This is the probability mass function for a binomial distribution over the number of heads given a number of flips $ n $ and a probability of success $ x $. However, fixing some observed sequence of coin flips containing some proportion of heads, it is also the likelihood function for the unknown probability of heads $ x $. That is, \n",
    "$$ L(\\theta) = \\begin{pmatrix} n \\\\ k \\end{pmatrix} \\theta^{k} (1 - \\theta)^{n - k} \\tag{2} $$\n",
    "is the likelihood of the unknown parameter $ \\theta $, given a sequence of $ n $ flips with $ k $ heads. **This is the same expression as above, interpreted differently**. (1) is a probability mass function over the number of heads in a sequence of $ n $ coin flips with probability of heads $ \\theta $, while (2) is the likelihood function (in this case a polynomial) for the unknown parameter $ \\theta $, given that we've observed a particular sequence of flips. Let's plot the likelihood function for different values of the number of heads $ k $, assuming the number of total flips is $ n = 10 $."
   ]
  },
  {
   "cell_type": "code",
   "execution_count": 3,
   "metadata": {},
   "outputs": [
    {
     "data": {
      "application/vnd.jupyter.widget-view+json": {
       "model_id": "985545755fbe4937afab3c6a85ee1136",
       "version_major": 2,
       "version_minor": 0
      },
      "text/plain": [
       "interactive(children=(IntSlider(value=5, description='k', max=9, min=1), Output()), _dom_classes=('widget-inte…"
      ]
     },
     "metadata": {},
     "output_type": "display_data"
    }
   ],
   "source": [
    "def binomial_likelihood(theta, n, k):\n",
    "    return special.comb(n, k) * theta**k * (1 - theta)**(n - k)\n",
    "\n",
    "def plot_likelihood(k=5):\n",
    "    theta = np.linspace(0, 1, 1000)\n",
    "    n = 10\n",
    "    fig, ax = plt.subplots(1, 1, figsize=(8, 6))\n",
    "    likelihood = binomial_likelihood(theta, n, k)\n",
    "    ax.plot(theta, likelihood, color='C2')\n",
    "    ax.set_xlabel(r'$ \\theta $')\n",
    "    ax.set_ylabel(r'$ L(\\theta) $')\n",
    "    ax.set_xticks([0, 0.25, 0.5, 0.75, 1])\n",
    "    ax.set_ylim([0, 0.5])\n",
    "\n",
    "interact(plot_likelihood, k=(1, 9, 1));"
   ]
  },
  {
   "cell_type": "markdown",
   "metadata": {},
   "source": [
    "For 9 different observed data sets (the cases where we've observed 1-9 heads in 10 coin flips), we've plotted the likelihood as a function of $ \\theta $. **Look at where the likelihood function is peaked for each data set**: for data with low numbers of heads, it's peaked near $ 0 $, while for data with high numbers of heads, it's peaked near $ 1 $. Taking the maximum of the likelihood for each of these cases is the (big surprise) maximum likelihood estimate for the probability of heads $ \\theta $, and corresponds to the result you would get if you went along with the original idea of keeping a running tally of the number of heads as you flipped.\n",
    "\n",
    "However, we're Bayesians, and that just isn't good enough. Our posterior is given by multiplying the likelihood by the prior, and renormalizing the result. You should be beginning to see what the result of this multiplication will look like, but lets plot the unnormalized posterior for each of the data sets above to make it clear.  "
   ]
  },
  {
   "cell_type": "code",
   "execution_count": 4,
   "metadata": {},
   "outputs": [
    {
     "data": {
      "application/vnd.jupyter.widget-view+json": {
       "model_id": "600385c595134719bc3dbc4c0d89225a",
       "version_major": 2,
       "version_minor": 0
      },
      "text/plain": [
       "interactive(children=(IntSlider(value=5, description='k', max=9, min=1), Output()), _dom_classes=('widget-inte…"
      ]
     },
     "metadata": {},
     "output_type": "display_data"
    }
   ],
   "source": [
    "def plot_unnormalized_posterior(k=5):\n",
    "    x = np.linspace(0, 1, 1000)\n",
    "    \n",
    "    alpha = beta = 5\n",
    "    prior = stats.beta(alpha, beta)\n",
    "    \n",
    "    n = 10\n",
    "    x = np.linspace(0, 1, 1000)\n",
    "    likelihood = binomial_likelihood(x, n, k)\n",
    "    \n",
    "    fig, ax = plt.subplots(1, 1, figsize=(8, 6))\n",
    "    ax.plot(x, prior.pdf(x), label='Prior')\n",
    "    ax.fill_between(x, np.zeros_like(x), prior.pdf(x), alpha=0.5)\n",
    "    \n",
    "    ax.plot(x, likelihood, color='C2', label='Likelihood')\n",
    "    \n",
    "    ax.plot(x, likelihood * prior.pdf(x), color='C1', label='Unnormalized posterior')\n",
    "    ax.fill_between(x, np.zeros_like(x), likelihood * prior.pdf(x), alpha=0.5)\n",
    "    \n",
    "    ax.set_xticks([0, 0.25, 0.5, 0.75, 1])\n",
    "    ax.legend()\n",
    "\n",
    "interact(plot_unnormalized_posterior, k=(1, 9, 1));"
   ]
  },
  {
   "cell_type": "markdown",
   "metadata": {},
   "source": [
    "In our toy dataset of 10 coin flips, the number of heads $ k $ we observed will change our posterior beliefs about the coin's fairness. This is exactly what's shown above: as we observe different numbers of heads, our unnormalized posterior concentrates on different values of the probability of heads $ \\theta $. \n",
    "\n",
    "Now comes the special bit: it turns out the beta prior is conjugate to the binomial likelihood, and our unnormalized posterior is proportional to another beta distribution! This is easy to see, since our prior is a polynomial in $ \\theta $, and our likelihood is a polynomial in $ \\theta $, so our posterior is a polynomial in $ \\theta $ as well. More concretely, the posterior is \n",
    "\\begin{align}\n",
    "p(\\theta \\vert n, k) &\\propto L(\\theta) p(\\theta) \\\\\n",
    "&\\propto \\theta^{k} (1 - \\theta)^{n - k} \\theta^{\\alpha - 1} (1 - \\theta)^{\\beta - 1} \\\\\n",
    "&= \\theta^{(\\alpha + k) - 1} (1 - \\theta)^{(\\beta + n - k) - 1}.\n",
    "\\end{align}\n",
    "This expression uniquely characterises a beta distribution with parameters $ \\alpha^{\\prime} = \\alpha + k $ and $ \\beta^{\\prime} = \\beta + n - k $. We also know the normalizing constant: it's $ B(\\alpha + k, \\beta + n - k) $ necessarily. In this way, the parameters of the posterior beta distribution can be interpreted as 'counts' of heads and tails, respectively, and computing the posterior just requires addition. \n",
    "\n",
    "Thanks to conjugacy, we now have the exact posterior, so let's plot it, and play with some slightly bigger datasets as well (careful to ensure $ n $ is always bigger than $ k $ in the demo, since we can't have more heads than flips). Notice how as the size of the dataset increases, our posterior becomes increasingly peaked i.e. we become more certain about our beliefs the more data we see."
   ]
  },
  {
   "cell_type": "code",
   "execution_count": 5,
   "metadata": {},
   "outputs": [
    {
     "data": {
      "application/vnd.jupyter.widget-view+json": {
       "model_id": "a94888af055e4dd68d27d965a8f0f7a7",
       "version_major": 2,
       "version_minor": 0
      },
      "text/plain": [
       "interactive(children=(IntSlider(value=10, description='n', min=10, step=10), IntSlider(value=5, description='k…"
      ]
     },
     "metadata": {},
     "output_type": "display_data"
    }
   ],
   "source": [
    "def plot_exact_posterior(n=10, k=5):\n",
    "    x = np.linspace(0, 1, 1000)\n",
    "    \n",
    "    alpha = beta = 5\n",
    "    prior = stats.beta(alpha, beta)\n",
    "    \n",
    "    x = np.linspace(0, 1, 1000)\n",
    "    likelihood = binomial_likelihood(x, n, k)\n",
    "    \n",
    "    fig, ax = plt.subplots(1, 1, figsize=(8, 6))\n",
    "    ax.plot(x, prior.pdf(x), label='Prior')\n",
    "    ax.fill_between(x, np.zeros_like(x), prior.pdf(x), alpha=0.5)\n",
    "    \n",
    "    ax.plot(x, likelihood, color='C2', label='Likelihood')\n",
    "    \n",
    "    alpha_prime = alpha + k\n",
    "    beta_prime = beta + n - k\n",
    "    posterior = stats.beta(alpha_prime, beta_prime)\n",
    "    ax.plot(x, posterior.pdf(x), color='C1', label='Posterior')\n",
    "    ax.fill_between(x, np.zeros_like(x), posterior.pdf(x), alpha=0.5)\n",
    "    \n",
    "    ax.set_xticks([0, 0.25, 0.5, 0.75, 1])\n",
    "    ax.legend()\n",
    "\n",
    "interact(plot_exact_posterior, n=(10, 100, 10), k=(1, 99, 1));"
   ]
  },
  {
   "cell_type": "markdown",
   "metadata": {},
   "source": [
    "Our Bayesian stranger is delighted with us; we've not just characterized our beliefs about the coin's fairness having seen data, but we've given him a closed form posterior defined by just two scalar values, $ \\alpha^{\\prime} $ and $ \\beta^{\\prime} $. With just these two numbers, we've fully quantified our beliefs about the coin's fairness, and no matter how much data we ever gather, all we need are two numbers to communicate those beliefs i.e. $ n $ and $ k $ are **sufficient statistics** of the data."
   ]
  },
  {
   "cell_type": "markdown",
   "metadata": {},
   "source": [
    "# Q3"
   ]
  },
  {
   "cell_type": "markdown",
   "metadata": {},
   "source": [
    "- We first generate a vector from a standard normal distribution. \n",
    "- Then, for each pass through the loop, we compute the logsumexp of the vector naively, and in a numerically stable way.\n",
    "- We also multiply the vector by 10 in each pass, and show the naive method begins to fail at some point. "
   ]
  },
  {
   "cell_type": "code",
   "execution_count": 6,
   "metadata": {},
   "outputs": [
    {
     "name": "stdout",
     "output_type": "stream",
     "text": [
      "Vector is [  9.43510481  -2.10324066 -12.15235771]\n",
      "Naive calculation is: 9.435114560101395\n",
      "Stable calculation is: 9.435114560101395\n",
      "\n",
      "Vector is [  94.35104811  -21.03240664 -121.5235771 ]\n",
      "Naive calculation is: 94.35104810723945\n",
      "Stable calculation is: 94.35104810723945\n",
      "\n",
      "Vector is [  943.51048107  -210.32406638 -1215.23577097]\n",
      "Naive calculation is: inf\n",
      "Stable calculation is: 943.5104810723944\n",
      "\n",
      "Vector is [  9435.10481072  -2103.2406638  -12152.35770974]\n",
      "Naive calculation is: inf\n",
      "Stable calculation is: 9435.104810723944\n",
      "\n",
      "Vector is [  94351.04810724  -21032.40663804 -121523.57709742]\n",
      "Naive calculation is: inf\n",
      "Stable calculation is: 94351.04810723945\n",
      "\n",
      "Vector is [  943510.48107239  -210324.06638038 -1215235.77097416]\n",
      "Naive calculation is: inf\n",
      "Stable calculation is: 943510.4810723944\n",
      "\n",
      "Vector is [  9435104.81072394  -2103240.66380377 -12152357.70974157]\n",
      "Naive calculation is: inf\n",
      "Stable calculation is: 9435104.810723944\n",
      "\n",
      "Vector is [ 9.43510481e+07 -2.10324066e+07 -1.21523577e+08]\n",
      "Naive calculation is: inf\n",
      "Stable calculation is: 94351048.10723944\n",
      "\n",
      "Vector is [ 9.43510481e+08 -2.10324066e+08 -1.21523577e+09]\n",
      "Naive calculation is: inf\n",
      "Stable calculation is: 943510481.0723944\n",
      "\n",
      "Vector is [ 9.43510481e+09 -2.10324066e+09 -1.21523577e+10]\n",
      "Naive calculation is: inf\n",
      "Stable calculation is: 9435104810.723944\n",
      "\n"
     ]
    }
   ],
   "source": [
    "def logsumexp(x):\n",
    "    x_max = max(x)\n",
    "    return x_max + np.log(np.sum(np.exp(x - x_max)))\n",
    "\n",
    "\n",
    "x = np.random.randn(3)\n",
    "for i in range(10):\n",
    "    x *= 10\n",
    "    print('Vector is {:}'.format(x))\n",
    "    naive = np.log(np.sum(np.exp(x)))\n",
    "    print('Naive calculation is: {:}'.format(naive))\n",
    "    stable = logsumexp(x)\n",
    "    print('Stable calculation is: {:}'.format(stable))\n",
    "    print()"
   ]
  }
 ],
 "metadata": {
  "kernelspec": {
   "display_name": "Python 3",
   "language": "python",
   "name": "python3"
  },
  "language_info": {
   "codemirror_mode": {
    "name": "ipython",
    "version": 3
   },
   "file_extension": ".py",
   "mimetype": "text/x-python",
   "name": "python",
   "nbconvert_exporter": "python",
   "pygments_lexer": "ipython3",
   "version": "3.6.9"
  }
 },
 "nbformat": 4,
 "nbformat_minor": 2
}
