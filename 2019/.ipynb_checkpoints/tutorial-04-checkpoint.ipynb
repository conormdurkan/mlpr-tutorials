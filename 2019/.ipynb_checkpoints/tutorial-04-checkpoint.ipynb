{
 "cells": [
  {
   "cell_type": "code",
   "execution_count": 1,
   "metadata": {},
   "outputs": [],
   "source": [
    "import numpy as np"
   ]
  },
  {
   "cell_type": "markdown",
   "metadata": {},
   "source": [
    "# Q1"
   ]
  },
  {
   "cell_type": "markdown",
   "metadata": {},
   "source": [
    "- We first generate a vector from a standard normal distribution. \n",
    "- Then, for each pass through the loop, we compute the logsumexp of the vector naively, and in a numerically stable way.\n",
    "- We also multiply the vector by 10 in each pass, and show the naive method begins to fail at some point. "
   ]
  },
  {
   "cell_type": "code",
   "execution_count": 2,
   "metadata": {},
   "outputs": [
    {
     "name": "stdout",
     "output_type": "stream",
     "text": [
      "Vector is [-5.69786965  6.91795688  9.83766015]\n",
      "Naive calculation is: 9.890205039102657\n",
      "Stable calculation is: 9.890205039102657\n",
      "\n",
      "Vector is [-56.97869646  69.17956876  98.3766015 ]\n",
      "Naive calculation is: 98.37660149632798\n",
      "Stable calculation is: 98.37660149632798\n",
      "\n",
      "Vector is [-569.7869646   691.79568757  983.76601496]\n",
      "Naive calculation is: inf\n",
      "Stable calculation is: 983.7660149632777\n",
      "\n",
      "Vector is [-5697.86964601  6917.95687568  9837.66014963]\n",
      "Naive calculation is: inf\n",
      "Stable calculation is: 9837.660149632777\n",
      "\n",
      "Vector is [-56978.69646006  69179.56875684  98376.60149633]\n",
      "Naive calculation is: inf\n",
      "Stable calculation is: 98376.60149632777\n",
      "\n",
      "Vector is [-569786.96460059  691795.68756844  983766.01496328]\n",
      "Naive calculation is: inf\n",
      "Stable calculation is: 983766.0149632777\n",
      "\n",
      "Vector is [-5697869.64600594  6917956.87568444  9837660.14963278]\n",
      "Naive calculation is: inf\n",
      "Stable calculation is: 9837660.149632778\n",
      "\n",
      "Vector is [-56978696.4600594   69179568.75684439  98376601.49632779]\n",
      "Naive calculation is: inf\n",
      "Stable calculation is: 98376601.49632779\n",
      "\n",
      "Vector is [-5.69786965e+08  6.91795688e+08  9.83766015e+08]\n",
      "Naive calculation is: inf\n",
      "Stable calculation is: 983766014.9632778\n",
      "\n",
      "Vector is [-5.69786965e+09  6.91795688e+09  9.83766015e+09]\n",
      "Naive calculation is: inf\n",
      "Stable calculation is: 9837660149.632778\n",
      "\n"
     ]
    }
   ],
   "source": [
    "def logsumexp(x):\n",
    "    x_max = max(x)\n",
    "    return x_max + np.log(np.sum(np.exp(x - x_max)))\n",
    "\n",
    "\n",
    "x = np.random.randn(3)\n",
    "for i in range(10):\n",
    "    x *= 10\n",
    "    print('Vector is {:}'.format(x))\n",
    "    naive = np.log(np.sum(np.exp(x)))\n",
    "    print('Naive calculation is: {:}'.format(naive))\n",
    "    stable = logsumexp(x)\n",
    "    print('Stable calculation is: {:}'.format(stable))\n",
    "    print()"
   ]
  },
  {
   "cell_type": "code",
   "execution_count": null,
   "metadata": {},
   "outputs": [],
   "source": []
  },
  {
   "cell_type": "code",
   "execution_count": null,
   "metadata": {},
   "outputs": [],
   "source": []
  },
  {
   "cell_type": "code",
   "execution_count": null,
   "metadata": {},
   "outputs": [],
   "source": []
  },
  {
   "cell_type": "code",
   "execution_count": null,
   "metadata": {},
   "outputs": [],
   "source": []
  },
  {
   "cell_type": "code",
   "execution_count": null,
   "metadata": {},
   "outputs": [],
   "source": []
  },
  {
   "cell_type": "code",
   "execution_count": null,
   "metadata": {},
   "outputs": [],
   "source": []
  },
  {
   "cell_type": "code",
   "execution_count": null,
   "metadata": {},
   "outputs": [],
   "source": []
  },
  {
   "cell_type": "code",
   "execution_count": null,
   "metadata": {},
   "outputs": [],
   "source": []
  },
  {
   "cell_type": "code",
   "execution_count": null,
   "metadata": {},
   "outputs": [],
   "source": []
  },
  {
   "cell_type": "code",
   "execution_count": null,
   "metadata": {},
   "outputs": [],
   "source": []
  },
  {
   "cell_type": "code",
   "execution_count": null,
   "metadata": {},
   "outputs": [],
   "source": []
  },
  {
   "cell_type": "code",
   "execution_count": null,
   "metadata": {},
   "outputs": [],
   "source": []
  },
  {
   "cell_type": "code",
   "execution_count": null,
   "metadata": {},
   "outputs": [],
   "source": []
  },
  {
   "cell_type": "code",
   "execution_count": null,
   "metadata": {},
   "outputs": [],
   "source": []
  },
  {
   "cell_type": "code",
   "execution_count": null,
   "metadata": {},
   "outputs": [],
   "source": []
  },
  {
   "cell_type": "code",
   "execution_count": null,
   "metadata": {},
   "outputs": [],
   "source": []
  },
  {
   "cell_type": "code",
   "execution_count": null,
   "metadata": {},
   "outputs": [],
   "source": []
  },
  {
   "cell_type": "code",
   "execution_count": null,
   "metadata": {},
   "outputs": [],
   "source": []
  },
  {
   "cell_type": "code",
   "execution_count": null,
   "metadata": {},
   "outputs": [],
   "source": []
  },
  {
   "cell_type": "code",
   "execution_count": null,
   "metadata": {},
   "outputs": [],
   "source": []
  },
  {
   "cell_type": "code",
   "execution_count": null,
   "metadata": {},
   "outputs": [],
   "source": []
  },
  {
   "cell_type": "code",
   "execution_count": null,
   "metadata": {},
   "outputs": [],
   "source": []
  },
  {
   "cell_type": "code",
   "execution_count": null,
   "metadata": {},
   "outputs": [],
   "source": []
  },
  {
   "cell_type": "code",
   "execution_count": null,
   "metadata": {},
   "outputs": [],
   "source": []
  },
  {
   "cell_type": "code",
   "execution_count": null,
   "metadata": {},
   "outputs": [],
   "source": []
  },
  {
   "cell_type": "code",
   "execution_count": null,
   "metadata": {},
   "outputs": [],
   "source": []
  },
  {
   "cell_type": "code",
   "execution_count": null,
   "metadata": {},
   "outputs": [],
   "source": []
  },
  {
   "cell_type": "code",
   "execution_count": null,
   "metadata": {},
   "outputs": [],
   "source": []
  },
  {
   "cell_type": "code",
   "execution_count": null,
   "metadata": {},
   "outputs": [],
   "source": []
  },
  {
   "cell_type": "code",
   "execution_count": null,
   "metadata": {},
   "outputs": [],
   "source": []
  },
  {
   "cell_type": "code",
   "execution_count": null,
   "metadata": {},
   "outputs": [],
   "source": []
  },
  {
   "cell_type": "code",
   "execution_count": null,
   "metadata": {},
   "outputs": [],
   "source": []
  },
  {
   "cell_type": "code",
   "execution_count": null,
   "metadata": {},
   "outputs": [],
   "source": []
  },
  {
   "cell_type": "code",
   "execution_count": null,
   "metadata": {},
   "outputs": [],
   "source": []
  },
  {
   "cell_type": "code",
   "execution_count": null,
   "metadata": {},
   "outputs": [],
   "source": []
  },
  {
   "cell_type": "code",
   "execution_count": null,
   "metadata": {},
   "outputs": [],
   "source": []
  },
  {
   "cell_type": "code",
   "execution_count": null,
   "metadata": {},
   "outputs": [],
   "source": []
  },
  {
   "cell_type": "code",
   "execution_count": null,
   "metadata": {},
   "outputs": [],
   "source": []
  },
  {
   "cell_type": "code",
   "execution_count": null,
   "metadata": {},
   "outputs": [],
   "source": []
  },
  {
   "cell_type": "code",
   "execution_count": null,
   "metadata": {},
   "outputs": [],
   "source": []
  },
  {
   "cell_type": "code",
   "execution_count": null,
   "metadata": {},
   "outputs": [],
   "source": []
  },
  {
   "cell_type": "code",
   "execution_count": null,
   "metadata": {},
   "outputs": [],
   "source": []
  }
 ],
 "metadata": {
  "kernelspec": {
   "display_name": "Python 3",
   "language": "python",
   "name": "python3"
  },
  "language_info": {
   "codemirror_mode": {
    "name": "ipython",
    "version": 3
   },
   "file_extension": ".py",
   "mimetype": "text/x-python",
   "name": "python",
   "nbconvert_exporter": "python",
   "pygments_lexer": "ipython3",
   "version": "3.6.9"
  }
 },
 "nbformat": 4,
 "nbformat_minor": 2
}
